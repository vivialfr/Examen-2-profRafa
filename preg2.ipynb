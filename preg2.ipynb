{
  "nbformat": 4,
  "nbformat_minor": 0,
  "metadata": {
    "colab": {
      "provenance": []
    },
    "kernelspec": {
      "name": "python3",
      "display_name": "Python 3"
    },
    "language_info": {
      "name": "python"
    }
  },
  "cells": [
    {
      "cell_type": "markdown",
      "source": [
        "# Segundo Examen Argumentativo (Simulación)\n",
        "## Viviana Alanis Fraige | A01236316"
      ],
      "metadata": {
        "id": "hUicmDZbX0Ou"
      }
    },
    {
      "cell_type": "markdown",
      "source": [
        "### Pregunta 2. Movimiento Browniano"
      ],
      "metadata": {
        "id": "1_UhARwHWjAe"
      }
    },
    {
      "cell_type": "code",
      "source": [
        "# se instala el paquete xlswriter para obtener el archivo de excel con todas las distancias maximas obtenidas durante cada una de las caminatas realizadas\n",
        "!pip install xlsxwriter"
      ],
      "metadata": {
        "colab": {
          "base_uri": "https://localhost:8080/"
        },
        "id": "cCPqLbdTXmbw",
        "outputId": "1821e151-95cb-4c54-ba16-a7271540e1c0"
      },
      "execution_count": 1,
      "outputs": [
        {
          "output_type": "stream",
          "name": "stdout",
          "text": [
            "Collecting xlsxwriter\n",
            "  Downloading XlsxWriter-3.1.9-py3-none-any.whl (154 kB)\n",
            "\u001b[?25l     \u001b[90m━━━━━━━━━━━━━━━━━━━━━━━━━━━━━━━━━━━━━━━━\u001b[0m \u001b[32m0.0/154.8 kB\u001b[0m \u001b[31m?\u001b[0m eta \u001b[36m-:--:--\u001b[0m\r\u001b[2K     \u001b[91m━━━━━━━━━━━━━━━━━━\u001b[0m\u001b[91m╸\u001b[0m\u001b[90m━━━━━━━━━━━━━━━━━━━━━\u001b[0m \u001b[32m71.7/154.8 kB\u001b[0m \u001b[31m2.0 MB/s\u001b[0m eta \u001b[36m0:00:01\u001b[0m\r\u001b[2K     \u001b[90m━━━━━━━━━━━━━━━━━━━━━━━━━━━━━━━━━━━━━━━━\u001b[0m \u001b[32m154.8/154.8 kB\u001b[0m \u001b[31m3.0 MB/s\u001b[0m eta \u001b[36m0:00:00\u001b[0m\n",
            "\u001b[?25hInstalling collected packages: xlsxwriter\n",
            "Successfully installed xlsxwriter-3.1.9\n"
          ]
        }
      ]
    },
    {
      "cell_type": "code",
      "source": [
        "# importamos librerias\n",
        "import numpy as np\n",
        "import time\n",
        "import pandas as pd"
      ],
      "metadata": {
        "id": "xVvZ_ovxWw0Z"
      },
      "execution_count": 2,
      "outputs": []
    },
    {
      "cell_type": "code",
      "execution_count": 4,
      "metadata": {
        "colab": {
          "base_uri": "https://localhost:8080/"
        },
        "id": "knWv-Z94Wg17",
        "outputId": "0b7afe02-647c-4d4f-f5e4-cbc98b470a77"
      },
      "outputs": [
        {
          "name": "stdout",
          "output_type": "stream",
          "text": [
            "Numero de pasos por caminata: 1000\n",
            "Cantidad de simulaciones: 1000\n"
          ]
        },
        {
          "output_type": "stream",
          "name": "stderr",
          "text": [
            "<ipython-input-4-1862c771abed>:57: FutureWarning: The frame.append method is deprecated and will be removed from pandas in a future version. Use pandas.concat instead.\n",
            "  df_resultados_total = df_resultados_total.append(df_resultados, ignore_index=True)\n"
          ]
        },
        {
          "output_type": "stream",
          "name": "stdout",
          "text": [
            "\n",
            "Los resultados de las distancias maximas para 100 dimensiones están guardados en 'resultados_brownian_100.xlsx'\n"
          ]
        },
        {
          "output_type": "stream",
          "name": "stderr",
          "text": [
            "<ipython-input-4-1862c771abed>:57: FutureWarning: The frame.append method is deprecated and will be removed from pandas in a future version. Use pandas.concat instead.\n",
            "  df_resultados_total = df_resultados_total.append(df_resultados, ignore_index=True)\n"
          ]
        },
        {
          "output_type": "stream",
          "name": "stdout",
          "text": [
            "\n",
            "Los resultados de las distancias maximas para 1000 dimensiones están guardados en 'resultados_brownian_1000.xlsx'\n",
            "\n",
            "Los resultados de las distancias maximas para 10000 dimensiones están guardados en 'resultados_brownian_10000.xlsx'\n",
            "\n",
            "Los resultados totales estan guardados en 'resultados_brownian_total.xlsx'\n"
          ]
        },
        {
          "output_type": "stream",
          "name": "stderr",
          "text": [
            "<ipython-input-4-1862c771abed>:57: FutureWarning: The frame.append method is deprecated and will be removed from pandas in a future version. Use pandas.concat instead.\n",
            "  df_resultados_total = df_resultados_total.append(df_resultados, ignore_index=True)\n"
          ]
        }
      ],
      "source": [
        "# definimos el metodo browniano\n",
        "def brownian(dimensiones, pasos):\n",
        "    posicion = np.zeros(dimensiones)\n",
        "    distancia_max = 0\n",
        "\n",
        "    for i in range(pasos):\n",
        "        direccion = np.random.choice([-1, 1], dimensiones)\n",
        "        posicion += direccion\n",
        "        distancia = np.linalg.norm(posicion)\n",
        "\n",
        "        if distancia > distancia_max:\n",
        "            distancia_max = distancia\n",
        "\n",
        "    return distancia_max\n",
        "\n",
        "def simular_brownian(num_dimensiones, num_pasos, num_simulaciones): # simulamos el browniano\n",
        "    distancias = []\n",
        "    tiempo_inicial = time.time() # calcular tiempo que tarda en simular\n",
        "\n",
        "    for i in range(num_simulaciones):\n",
        "        max_distance = brownian(num_dimensiones, num_pasos)\n",
        "        distancias.append(max_distance)\n",
        "\n",
        "    tiempo_final = time.time()\n",
        "    tiempo_compilacion = tiempo_final - tiempo_inicial\n",
        "    distancia_promedio = np.mean(distancias)\n",
        "\n",
        "    return distancias, tiempo_compilacion, distancia_promedio\n",
        "\n",
        "def excel(df, filename): # para que nos de un archivo de excel con los resultados finales\n",
        "    with pd.ExcelWriter(filename, engine='xlsxwriter') as writer:\n",
        "        df.to_excel(writer, sheet_name='Sheet1', index=False)\n",
        "        worksheet = writer.sheets['Sheet1']\n",
        "        worksheet.set_column('A:A', 20)\n",
        "\n",
        "def main():\n",
        "    dimensiones_list = [100, 1000, 10000]\n",
        "    pasos = int(input(\"Numero de pasos por caminata: \"))\n",
        "    num_simulaciones = int(input(\"Cantidad de simulaciones: \"))\n",
        "\n",
        "  # guardar los resultados en un df\n",
        "    df_resultados_total = pd.DataFrame(columns=['Dimensiones', 'Pasos', 'Repeticiones', 'Tiempo de Ejecución', 'Distancia Máxima Promedio'])\n",
        "\n",
        "    for dimensiones in dimensiones_list:\n",
        "        num_dimensiones = dimensiones\n",
        "\n",
        "        distancias, tiempo_ejecucion, distancia_promedio = simular_brownian(num_dimensiones, pasos, num_simulaciones)\n",
        "\n",
        "        df_resultados = pd.DataFrame({\n",
        "            'Dimensiones': [num_dimensiones],\n",
        "            'Pasos': [pasos],\n",
        "            'Repeticiones': [num_simulaciones],\n",
        "            'Tiempo de Ejecución': [tiempo_ejecucion],\n",
        "            'Distancia Máxima Promedio': [distancia_promedio]\n",
        "        })\n",
        "\n",
        "        df_resultados_total = df_resultados_total.append(df_resultados, ignore_index=True)\n",
        "\n",
        "        excel_filename = f'resultados_brownian_{num_dimensiones}.xlsx'\n",
        "        excel(df_resultados, excel_filename)\n",
        "        print(f\"\\nLos resultados de las distancias maximas para {num_dimensiones} dimensiones están guardados en '{excel_filename}'\")\n",
        "\n",
        "    # guardar resultados en un archivo excel\n",
        "    excel_filename_total = 'resultados_brownian_total.xlsx'\n",
        "    excel(df_resultados_total, excel_filename_total)\n",
        "    print(f\"\\nLos resultados totales estan guardados en '{excel_filename_total}'\")\n",
        "\n",
        "main()"
      ]
    }
  ]
}